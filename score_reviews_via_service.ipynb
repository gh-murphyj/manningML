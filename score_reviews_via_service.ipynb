{
  "nbformat": 4,
  "nbformat_minor": 0,
  "metadata": {
    "anaconda-cloud": {},
    "kernelspec": {
      "display_name": "Python 3",
      "language": "python",
      "name": "python3"
    },
    "language_info": {
      "codemirror_mode": {
        "name": "ipython",
        "version": 2
      },
      "file_extension": ".py",
      "mimetype": "text/x-python",
      "name": "python",
      "nbconvert_exporter": "python",
      "pygments_lexer": "ipython2",
      "version": "2.7.3"
    },
    "pycharm": {
      "stem_cell": {
        "cell_type": "raw",
        "metadata": {
          "collapsed": false
        },
        "source": []
      }
    },
    "colab": {
      "name": "score_reviews_via_service.ipynb",
      "provenance": [],
      "include_colab_link": true
    }
  },
  "cells": [
    {
      "cell_type": "markdown",
      "metadata": {
        "id": "view-in-github",
        "colab_type": "text"
      },
      "source": [
        "<a href=\"https://colab.research.google.com/github/gh-murphyj/manningML/blob/master/score_reviews_via_service.ipynb\" target=\"_parent\"><img src=\"https://colab.research.google.com/assets/colab-badge.svg\" alt=\"Open In Colab\"/></a>"
      ]
    },
    {
      "cell_type": "markdown",
      "metadata": {
        "id": "QWP1R8xbYcwf",
        "colab_type": "text"
      },
      "source": [
        "## Part 1: Existing Machine Learning Services\n",
        "\n",
        "<a href=\"https://colab.research.google.com/github/peckjon/hosting-ml-as-microservice/blob/master/part1/score_reviews_via_service.ipynb\" target=\"_parent\"><img src=\"https://colab.research.google.com/assets/colab-badge.svg\" alt=\"Open In Colab\"/></a>"
      ]
    },
    {
      "cell_type": "markdown",
      "metadata": {
        "id": "jfJhya4YYcwh",
        "colab_type": "text"
      },
      "source": [
        "### Obtain labelled reviews\n",
        "\n",
        "In order to test any of the sentiment analysis APIs, we need a labelled dataset of reviews and their sentiment polarity. We'll use NLTK to download the movie_reviews corpus."
      ]
    },
    {
      "cell_type": "code",
      "metadata": {
        "pycharm": {
          "name": "#%%\n"
        },
        "id": "s-NdIIErYcwk",
        "colab_type": "code",
        "outputId": "8127d381-c592-4905-862f-b62caa1ba049",
        "colab": {
          "base_uri": "https://localhost:8080/",
          "height": 68
        }
      },
      "source": [
        "from nltk import download\n",
        "\n",
        "download('movie_reviews')"
      ],
      "execution_count": 14,
      "outputs": [
        {
          "output_type": "stream",
          "text": [
            "[nltk_data] Downloading package movie_reviews to /root/nltk_data...\n",
            "[nltk_data]   Package movie_reviews is already up-to-date!\n"
          ],
          "name": "stdout"
        },
        {
          "output_type": "execute_result",
          "data": {
            "text/plain": [
              "True"
            ]
          },
          "metadata": {
            "tags": []
          },
          "execution_count": 14
        }
      ]
    },
    {
      "cell_type": "markdown",
      "metadata": {
        "id": "-AIs1h90Ycwt",
        "colab_type": "text"
      },
      "source": [
        "### Load the data\n",
        "\n",
        "The files in movie_reviews have already been divided into two sets: positive ('pos') and negative ('neg'), so we can load the raw text of the reviews into two lists, one for each polarity."
      ]
    },
    {
      "cell_type": "code",
      "metadata": {
        "id": "PtYqYpR-Ycwu",
        "colab_type": "code",
        "colab": {}
      },
      "source": [
        "from nltk.corpus import movie_reviews\n",
        "\n",
        "# extract words from reviews, pair with label\n",
        "\n",
        "reviews_pos = []\n",
        "for fileid in movie_reviews.fileids('pos'):\n",
        "    review = movie_reviews.raw(fileid)\n",
        "    reviews_pos.append(review)\n",
        "\n",
        "reviews_neg = []\n",
        "for fileid in movie_reviews.fileids('neg'):\n",
        "    review = movie_reviews.raw(fileid)\n",
        "    reviews_neg.append(review)\n"
      ],
      "execution_count": 0,
      "outputs": []
    },
    {
      "cell_type": "markdown",
      "metadata": {
        "id": "Xv19QdHFYcw1",
        "colab_type": "text"
      },
      "source": [
        "### Connect to the scoring API\n",
        "\n",
        "Fill in this function with code that connects to one of these APIs, and uses it to score a single review:\n",
        "\n",
        "* [Amazon Comprehend: Detect Sentiment](https://docs.aws.amazon.com/comprehend/latest/dg/API_DetectSentiment.html)\n",
        "* [Google Natural Language: Analyzing Sentiment](https://cloud.google.com/natural-language/docs/analyzing-sentiment)\n",
        "* [Azure Cognitive Services: Sentiment Analysis](https://docs.microsoft.com/en-us/azure/cognitive-services/text-analytics/how-tos/text-analytics-how-to-sentiment-analysis)\n",
        "* [Algorithmia: Sentiment Analysis](https://algorithmia.com/algorithms/nlp/SentimentAnalysis)\n",
        "\n",
        "Your function must return either 'pos' or 'neg', so you'll need to make some decisions about how to map the results of the API call to one of these values. For example, Amazon Comprehend can return \"NEUTRAL\" or \"MIXED\" for the Sentiment -- if this happens, you may with to inspect the numeric values under the SentimentScore to see whether it leans toward positive or negative.\n"
      ]
    },
    {
      "cell_type": "code",
      "metadata": {
        "id": "khSthlfCYcw2",
        "colab_type": "code",
        "colab": {}
      },
      "source": [
        "import boto3\n",
        "\n",
        "def score_review(review):\n",
        "\n",
        "  # Connect to AWS. \n",
        "  comprehend = boto3.client(service_name='comprehend', region_name='eu-west-1',  aws_access_key_id='',\n",
        "      aws_secret_access_key='')\n",
        "\n",
        "  # boto3 has a limit of 5000 characters so truncate anything longer based on the assumption\n",
        "  # that the first 5000 characters should give the sentiment of the review\n",
        "  text = (review[:5000]) if len(review) > 5000 else review \n",
        "\n",
        "  # get the sentiment\n",
        "  detectSentiment = comprehend.detect_sentiment(Text=text, LanguageCode='en')\n",
        "  sentiment = detectSentiment[\"Sentiment\"]\n",
        "\n",
        "  # simple case where the sentiment is POSITIVE or NEGATIVE\n",
        "  if sentiment == \"POSITIVE\":\n",
        "    return 'pos'\n",
        "  elif sentiment == \"NEGATIVE\":\n",
        "    return 'neg'\n",
        "  else:\n",
        "    # handle MIXED and NEUTRAL cases \n",
        "    positive = detectSentiment[\"SentimentScore\"][\"Positive\"]\n",
        "    negative = detectSentiment[\"SentimentScore\"][\"Negative\"]\n",
        "\n",
        "    # positive even if positive equals negative (none equal anyway)    \n",
        "    if (positive >= negative):\n",
        "      return 'pos'\n",
        "    else:\n",
        "      return 'neg'  \n",
        "\n"
      ],
      "execution_count": 0,
      "outputs": []
    },
    {
      "cell_type": "code",
      "metadata": {
        "id": "AoEWUNy_ZMsj",
        "colab_type": "code",
        "colab": {}
      },
      "source": [
        ""
      ],
      "execution_count": 0,
      "outputs": []
    },
    {
      "cell_type": "markdown",
      "metadata": {
        "id": "8J6N5wl3Ycw9",
        "colab_type": "text"
      },
      "source": [
        "### Score each review\n",
        "\n",
        "Now, we can use the function you defined to score each of the reviews"
      ]
    },
    {
      "cell_type": "code",
      "metadata": {
        "id": "yycS4wfzYcw_",
        "colab_type": "code",
        "colab": {}
      },
      "source": [
        "results_pos = []\n",
        "for review in reviews_pos:\n",
        "    result = score_review(review)\n",
        "    results_pos.append(result)\n",
        "\n",
        "results_neg = []\n",
        "for review in reviews_neg:\n",
        "    result = score_review(review)\n",
        "    results_neg.append(result)\n"
      ],
      "execution_count": 0,
      "outputs": []
    },
    {
      "cell_type": "markdown",
      "metadata": {
        "id": "cnbX6MEfYcxL",
        "colab_type": "text"
      },
      "source": [
        "### Calculate accuracy\n",
        "\n",
        "For each of our known positive reviews, we can count the number which our function scored as 'pos', and use this to calculate the % accuracy. We repeaty this for negative reviews, and also for overall accuracy."
      ]
    },
    {
      "cell_type": "code",
      "metadata": {
        "id": "VH8gNrsRYcxN",
        "colab_type": "code",
        "outputId": "0397c7dc-7a75-4e67-c7d9-cdd354d19514",
        "colab": {
          "base_uri": "https://localhost:8080/",
          "height": 68
        }
      },
      "source": [
        "correct_pos = results_pos.count('pos')\n",
        "accuracy_pos = float(correct_pos) / len(results_pos)\n",
        "correct_neg = results_neg.count('neg')\n",
        "accuracy_neg = float(correct_neg) / len(results_neg)\n",
        "correct_all = correct_pos + correct_neg\n",
        "accuracy_all = float(correct_all) / (len(results_pos)+len(results_neg))\n",
        "\n",
        "print('Positive reviews: {}% correct'.format(accuracy_pos*100))\n",
        "print('Negative reviews: {}% correct'.format(accuracy_neg*100))\n",
        "print('Overall accuracy: {}% correct'.format(accuracy_all*100))"
      ],
      "execution_count": 18,
      "outputs": [
        {
          "output_type": "stream",
          "text": [
            "Positive reviews: 75.3% correct\n",
            "Negative reviews: 56.99999999999999% correct\n",
            "Overall accuracy: 66.14999999999999% correct\n"
          ],
          "name": "stdout"
        }
      ]
    }
  ]
}